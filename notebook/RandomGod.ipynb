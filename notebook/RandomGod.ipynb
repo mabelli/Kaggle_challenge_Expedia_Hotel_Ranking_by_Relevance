{
 "cells": [
  {
   "cell_type": "code",
   "execution_count": 1,
   "metadata": {
    "collapsed": true
   },
   "outputs": [],
   "source": [
    "import pandas as pd\n",
    "import numpy as np\n",
    "import os\n",
    "from collections import Counter\n",
    "from sklearn.model_selection import train_test_split\n",
    "from sklearn.preprocessing import OneHotEncoder, LabelEncoder\n",
    "import matplotlib.pyplot as plt\n",
    "from numpy.linalg import inv\n",
    "from IPython.display import display\n",
    "from tqdm import tqdm\n",
    "from joblib import Parallel, delayed \n",
    "import random\n",
    "import time\n",
    "import pickle\n",
    "from copy import deepcopy\n",
    "\n",
    "pd.set_option('display.max_columns', None)\n",
    "pd.set_option('display.max_rows', 100)\n",
    "%matplotlib inline"
   ]
  },
  {
   "cell_type": "code",
   "execution_count": 2,
   "metadata": {
    "collapsed": true
   },
   "outputs": [],
   "source": [
    "ROOT_PATH = os.getcwd()\n",
    "DATA_PATH = os.path.join(ROOT_PATH, \"data\")\n",
    "train_data_file = os.path.join(DATA_PATH, \"train.csv\")\n",
    "test_data_file = os.path.join(DATA_PATH, \"test.csv\")\n",
    "\n",
    "train = pd.read_csv(train_data_file)\n",
    "test = pd.read_csv(test_data_file)"
   ]
  },
  {
   "cell_type": "code",
   "execution_count": 3,
   "metadata": {
    "collapsed": true
   },
   "outputs": [],
   "source": [
    "def rank_properties(user_id, list_prop, search_query_params=None):\n",
    "    new_prop_list = deepcopy(list_prop)\n",
    "    random.shuffle(new_prop_list)\n",
    "    \n",
    "    return new_prop_list"
   ]
  },
  {
   "cell_type": "code",
   "execution_count": 4,
   "metadata": {
    "collapsed": true
   },
   "outputs": [],
   "source": [
    "def get_search_results(user_id, list_prop, search_query_params=None):\n",
    "    ranked_properties = rank_properties(user_id, list_prop, search_query_params)\n",
    "    user_id_duplicated = [user_id] * len(ranked_properties)\n",
    "    \n",
    "    return list(zip(user_id_duplicated, ranked_properties))"
   ]
  },
  {
   "cell_type": "code",
   "execution_count": 5,
   "metadata": {},
   "outputs": [
    {
     "data": {
      "text/html": [
       "<div>\n",
       "<style>\n",
       "    .dataframe thead tr:only-child th {\n",
       "        text-align: right;\n",
       "    }\n",
       "\n",
       "    .dataframe thead th {\n",
       "        text-align: left;\n",
       "    }\n",
       "\n",
       "    .dataframe tbody tr th {\n",
       "        vertical-align: top;\n",
       "    }\n",
       "</style>\n",
       "<table border=\"1\" class=\"dataframe\">\n",
       "  <thead>\n",
       "    <tr style=\"text-align: right;\">\n",
       "      <th></th>\n",
       "      <th>srch_id</th>\n",
       "      <th>prop_key</th>\n",
       "    </tr>\n",
       "  </thead>\n",
       "  <tbody>\n",
       "    <tr>\n",
       "      <th>0</th>\n",
       "      <td>-1087756044</td>\n",
       "      <td>3075608</td>\n",
       "    </tr>\n",
       "    <tr>\n",
       "      <th>1</th>\n",
       "      <td>-1087756044</td>\n",
       "      <td>242706</td>\n",
       "    </tr>\n",
       "    <tr>\n",
       "      <th>2</th>\n",
       "      <td>-1087756044</td>\n",
       "      <td>247231</td>\n",
       "    </tr>\n",
       "    <tr>\n",
       "      <th>3</th>\n",
       "      <td>-1087756044</td>\n",
       "      <td>258704</td>\n",
       "    </tr>\n",
       "    <tr>\n",
       "      <th>4</th>\n",
       "      <td>-1087756044</td>\n",
       "      <td>3407116</td>\n",
       "    </tr>\n",
       "  </tbody>\n",
       "</table>\n",
       "</div>"
      ],
      "text/plain": [
       "      srch_id  prop_key\n",
       "0 -1087756044   3075608\n",
       "1 -1087756044    242706\n",
       "2 -1087756044    247231\n",
       "3 -1087756044    258704\n",
       "4 -1087756044   3407116"
      ]
     },
     "execution_count": 5,
     "metadata": {},
     "output_type": "execute_result"
    }
   ],
   "source": [
    "relevant_columns = ['srch_id', 'prop_key']\n",
    "relevant_data = test[relevant_columns]\n",
    "relevant_data.head()"
   ]
  },
  {
   "cell_type": "code",
   "execution_count": 6,
   "metadata": {},
   "outputs": [
    {
     "data": {
      "text/html": [
       "<div>\n",
       "<style>\n",
       "    .dataframe thead tr:only-child th {\n",
       "        text-align: right;\n",
       "    }\n",
       "\n",
       "    .dataframe thead th {\n",
       "        text-align: left;\n",
       "    }\n",
       "\n",
       "    .dataframe tbody tr th {\n",
       "        vertical-align: top;\n",
       "    }\n",
       "</style>\n",
       "<table border=\"1\" class=\"dataframe\">\n",
       "  <thead>\n",
       "    <tr style=\"text-align: right;\">\n",
       "      <th></th>\n",
       "      <th>srch_id</th>\n",
       "      <th>prop_ids</th>\n",
       "    </tr>\n",
       "  </thead>\n",
       "  <tbody>\n",
       "    <tr>\n",
       "      <th>0</th>\n",
       "      <td>-2147403968</td>\n",
       "      <td>[358698, 242180, 270584, 248136, 245287, 36386...</td>\n",
       "    </tr>\n",
       "    <tr>\n",
       "      <th>1</th>\n",
       "      <td>-2145422147</td>\n",
       "      <td>[260096, 282197, 1098965, 342228, 282202, 2479...</td>\n",
       "    </tr>\n",
       "    <tr>\n",
       "      <th>2</th>\n",
       "      <td>-2145205355</td>\n",
       "      <td>[444331, 248735, 299983, 552966, 247024, 26321...</td>\n",
       "    </tr>\n",
       "    <tr>\n",
       "      <th>3</th>\n",
       "      <td>-2144648286</td>\n",
       "      <td>[588300, 3270102, 253920, 453199, 3877123, 480...</td>\n",
       "    </tr>\n",
       "    <tr>\n",
       "      <th>4</th>\n",
       "      <td>-2144249235</td>\n",
       "      <td>[277410, 289047, 349893, 254365, 255737, 27347...</td>\n",
       "    </tr>\n",
       "  </tbody>\n",
       "</table>\n",
       "</div>"
      ],
      "text/plain": [
       "      srch_id                                           prop_ids\n",
       "0 -2147403968  [358698, 242180, 270584, 248136, 245287, 36386...\n",
       "1 -2145422147  [260096, 282197, 1098965, 342228, 282202, 2479...\n",
       "2 -2145205355  [444331, 248735, 299983, 552966, 247024, 26321...\n",
       "3 -2144648286  [588300, 3270102, 253920, 453199, 3877123, 480...\n",
       "4 -2144249235  [277410, 289047, 349893, 254365, 255737, 27347..."
      ]
     },
     "execution_count": 6,
     "metadata": {},
     "output_type": "execute_result"
    }
   ],
   "source": [
    "sorted_search_ids_data = \\\n",
    "    relevant_data \\\n",
    "        .groupby('srch_id')['prop_key'] \\\n",
    "        .apply(list) \\\n",
    "        .reset_index(name='prop_ids') \\\n",
    "        .sort_values(by='srch_id') \\\n",
    "        \n",
    "sorted_search_ids_data.head()"
   ]
  },
  {
   "cell_type": "code",
   "execution_count": 7,
   "metadata": {
    "collapsed": true
   },
   "outputs": [],
   "source": [
    "final_results = []\n",
    "for idx, row in sorted_search_ids_data.iterrows():\n",
    "    sorted_results = get_search_results(user_id=row['srch_id'], \n",
    "                                        list_prop=row['prop_ids'])\n",
    "    final_results.extend(sorted_results)"
   ]
  },
  {
   "cell_type": "code",
   "execution_count": 8,
   "metadata": {},
   "outputs": [
    {
     "data": {
      "text/html": [
       "<div>\n",
       "<style>\n",
       "    .dataframe thead tr:only-child th {\n",
       "        text-align: right;\n",
       "    }\n",
       "\n",
       "    .dataframe thead th {\n",
       "        text-align: left;\n",
       "    }\n",
       "\n",
       "    .dataframe tbody tr th {\n",
       "        vertical-align: top;\n",
       "    }\n",
       "</style>\n",
       "<table border=\"1\" class=\"dataframe\">\n",
       "  <thead>\n",
       "    <tr style=\"text-align: right;\">\n",
       "      <th></th>\n",
       "      <th>srch_id</th>\n",
       "      <th>prop_key</th>\n",
       "    </tr>\n",
       "  </thead>\n",
       "  <tbody>\n",
       "    <tr>\n",
       "      <th>0</th>\n",
       "      <td>-2147403968</td>\n",
       "      <td>3182870</td>\n",
       "    </tr>\n",
       "    <tr>\n",
       "      <th>1</th>\n",
       "      <td>-2147403968</td>\n",
       "      <td>265073</td>\n",
       "    </tr>\n",
       "    <tr>\n",
       "      <th>2</th>\n",
       "      <td>-2147403968</td>\n",
       "      <td>3895289</td>\n",
       "    </tr>\n",
       "    <tr>\n",
       "      <th>3</th>\n",
       "      <td>-2147403968</td>\n",
       "      <td>3802344</td>\n",
       "    </tr>\n",
       "    <tr>\n",
       "      <th>4</th>\n",
       "      <td>-2147403968</td>\n",
       "      <td>287623</td>\n",
       "    </tr>\n",
       "  </tbody>\n",
       "</table>\n",
       "</div>"
      ],
      "text/plain": [
       "      srch_id  prop_key\n",
       "0 -2147403968   3182870\n",
       "1 -2147403968    265073\n",
       "2 -2147403968   3895289\n",
       "3 -2147403968   3802344\n",
       "4 -2147403968    287623"
      ]
     },
     "execution_count": 8,
     "metadata": {},
     "output_type": "execute_result"
    }
   ],
   "source": [
    "results = pd.DataFrame(final_results, columns=['srch_id', 'prop_key'])\n",
    "results.head()"
   ]
  },
  {
   "cell_type": "code",
   "execution_count": 9,
   "metadata": {
    "collapsed": true
   },
   "outputs": [],
   "source": [
    "results.to_csv('output/rresults.csv', index=False)"
   ]
  },
  {
   "cell_type": "markdown",
   "metadata": {},
   "source": [
    "## _Fin._"
   ]
  }
 ],
 "metadata": {
  "kernelspec": {
   "display_name": "Python 3",
   "language": "python",
   "name": "python3"
  },
  "language_info": {
   "codemirror_mode": {
    "name": "ipython",
    "version": 3
   },
   "file_extension": ".py",
   "mimetype": "text/x-python",
   "name": "python",
   "nbconvert_exporter": "python",
   "pygments_lexer": "ipython3",
   "version": "3.6.2"
  }
 },
 "nbformat": 4,
 "nbformat_minor": 2
}
